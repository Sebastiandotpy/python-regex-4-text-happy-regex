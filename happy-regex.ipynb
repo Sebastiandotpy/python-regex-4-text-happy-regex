{
 "cells": [
  {
   "cell_type": "code",
   "execution_count": 8,
   "metadata": {},
   "outputs": [
    {
     "name": "stdout",
     "output_type": "stream",
     "text": [
      "Task Examples:\n",
      "Original sentence: My current mood: :(\n",
      "Modified sentence: My current mood: :)\n",
      "\n",
      "User Interface:\n",
      "Original sentence: I was hungry 8(\n",
      "Modified sentence: I was hungry 8)\n",
      "\n",
      "User Interface:\n",
      "Original sentence: print('x(')\n",
      "Modified sentence: print('x)')\n",
      "\n",
      "User Interface:\n",
      "Original sentence: happy face\n",
      "Modified sentence: happy face\n"
     ]
    }
   ],
   "source": [
    "import re\n",
    "\n",
    "def make_happy(sentence):\n",
    "    \"\"\"\n",
    "    Convert sad faces to happy faces in the given sentence.\n",
    "    \n",
    "    Args:\n",
    "        sentence (str): The input sentence.\n",
    "        \n",
    "    Returns:\n",
    "        str: The modified sentence with happy faces.\n",
    "    \"\"\"\n",
    "    converted_sentence = re.sub(r'(?<=[:(8x])(\\()', ')', sentence)\n",
    "    # Using regex with lookbehind to match sad faces followed by '(' and replace with ')'\n",
    "    # This converts sad faces like :( and 8( to happy faces\n",
    "    \n",
    "    return converted_sentence\n",
    "\n",
    "\n",
    "def user_interface():\n",
    "    \"\"\"\n",
    "    Implement a user interface to get input from the user and display the modified sentence.\n",
    "    \"\"\"\n",
    "    original_sentence = input(\"Enter a sentence: \")\n",
    "    \n",
    "    converted_sentence = re.sub(r':\\)', ':(', original_sentence)\n",
    "    # Convert :) to :(\n",
    "    \n",
    "    converted_sentence = re.sub(r':\\(', ':)', converted_sentence)\n",
    "    # Convert :( to :)\n",
    "    \n",
    "    converted_sentence = make_happy(converted_sentence)\n",
    "    # Convert sad faces to happy faces using the make_happy function\n",
    "    \n",
    "    print(\"Original sentence:\", original_sentence)\n",
    "    print(\"Modified sentence:\", converted_sentence)\n",
    "\n",
    "\n",
    "# Task examples\n",
    "task_examples = [\n",
    "    \"My current mood: :(\",\n",
    "    \"I was hungry 8(\",\n",
    "    \"print('x(')\"\n",
    "]\n",
    "\n",
    "print(\"Task Examples:\")\n",
    "for example in task_examples:\n",
    "    converted_example = make_happy(example)\n",
    "\n",
    "    print(\"Original sentence:\", example)\n",
    "    print(\"Modified sentence:\", converted_example)\n",
    "    print()\n",
    "\n",
    "\n",
    "    print(\"User Interface:\")\n",
    "user_interface()\n"
   ]
  }
 ],
 "metadata": {
  "kernelspec": {
   "display_name": "Python 3",
   "language": "python",
   "name": "python3"
  },
  "language_info": {
   "codemirror_mode": {
    "name": "ipython",
    "version": 3
   },
   "file_extension": ".py",
   "mimetype": "text/x-python",
   "name": "python",
   "nbconvert_exporter": "python",
   "pygments_lexer": "ipython3",
   "version": "3.11.3"
  },
  "orig_nbformat": 4
 },
 "nbformat": 4,
 "nbformat_minor": 2
}
